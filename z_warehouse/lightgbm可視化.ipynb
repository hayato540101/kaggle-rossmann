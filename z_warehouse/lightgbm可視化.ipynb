{
 "cells": [
  {
   "cell_type": "code",
   "execution_count": null,
   "source": [
    "model = modeldict[3]\r\n",
    "lgb.plot_importance(model,height=0.5,figsize=(10,16))"
   ],
   "outputs": [],
   "metadata": {}
  },
  {
   "cell_type": "code",
   "execution_count": null,
   "source": [
    "# こっちで明示的にgainを指定したほうがよさげ\r\n",
    "# ゲイン：　feature_importance（importance_type = ‘gain’）\r\n",
    "importance = pd.DataFrame(model.feature_importance(importance_type='gain'),\r\n",
    "index=train_x.columns, columns=['importance'])\r\n",
    "importance = importance.sort_values('importance', ascending=True)\r\n",
    "display(importance)\r\n",
    "\r\n",
    "plt.barh(importance.index,importance['importance'])\r\n"
   ],
   "outputs": [],
   "metadata": {}
  },
  {
   "cell_type": "code",
   "execution_count": null,
   "source": [],
   "outputs": [],
   "metadata": {}
  }
 ],
 "metadata": {
  "orig_nbformat": 4,
  "language_info": {
   "name": "python"
  }
 },
 "nbformat": 4,
 "nbformat_minor": 2
}