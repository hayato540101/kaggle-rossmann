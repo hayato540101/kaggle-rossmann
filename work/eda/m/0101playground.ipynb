{
 "cells": [
  {
   "cell_type": "code",
   "execution_count": 15,
   "source": [
    "a = 'acd'\r\n",
    "print('改\\n行')\r\n",
    "print('------------------------------')\r\n",
    "print(r'改\\n行')\r\n",
    "print('------------------------------')\r\n",
    "print(f'改\\n行{a}')\r\n",
    "print(rf'改\\n行{a}')\r\n",
    "print('------------------------------')\r\n"
   ],
   "outputs": [
    {
     "output_type": "stream",
     "name": "stdout",
     "text": [
      "改\n",
      "行\n",
      "------------------------------\n",
      "改\\n行\n",
      "------------------------------\n",
      "改\n",
      "行acd\n",
      "改\\n行acd\n",
      "------------------------------\n"
     ]
    }
   ],
   "metadata": {}
  },
  {
   "cell_type": "code",
   "execution_count": 21,
   "source": [
    "100_000_000_000"
   ],
   "outputs": [
    {
     "output_type": "execute_result",
     "data": {
      "text/plain": [
       "100000000000"
      ]
     },
     "metadata": {},
     "execution_count": 21
    }
   ],
   "metadata": {}
  },
  {
   "cell_type": "code",
   "execution_count": 75,
   "source": [
    "a = (1,10)\r\n",
    "b = (a,100)\r\n",
    "a = (1,10.5)\r\n",
    "b = (a,100)\r\n",
    "b\r\n",
    "...\r\n",
    "a = (-1.46543,2)\r\n",
    "type(a)\r\n",
    "a\r\n"
   ],
   "outputs": [
    {
     "output_type": "execute_result",
     "data": {
      "text/plain": [
       "(-1.46543, 2)"
      ]
     },
     "metadata": {},
     "execution_count": 75
    }
   ],
   "metadata": {}
  },
  {
   "cell_type": "code",
   "execution_count": 94,
   "source": [
    "l = ['Alice', 'Bob', 'Charlie']\r\n",
    "d = {s: len(s) for s in l}\r\n",
    "print(d)\r\n",
    "del d['Bob']"
   ],
   "outputs": [
    {
     "output_type": "stream",
     "name": "stdout",
     "text": [
      "{'Alice': 5, 'Bob': 3, 'Charlie': 7}\n"
     ]
    }
   ],
   "metadata": {}
  },
  {
   "cell_type": "code",
   "execution_count": 103,
   "source": [
    "l = ['Alice', 'Bob', 'Charlie']\r\n",
    "d = {s: len(s) for s in l}\r\n",
    "dir(d)\r\n",
    "d.__doc__\r\n",
    "\r\n"
   ],
   "outputs": [
    {
     "output_type": "execute_result",
     "data": {
      "text/plain": [
       "\"dict() -> new empty dictionary\\ndict(mapping) -> new dictionary initialized from a mapping object's\\n    (key, value) pairs\\ndict(iterable) -> new dictionary initialized as if via:\\n    d = {}\\n    for k, v in iterable:\\n        d[k] = v\\ndict(**kwargs) -> new dictionary initialized with the name=value pairs\\n    in the keyword argument list.  For example:  dict(one=1, two=2)\""
      ]
     },
     "metadata": {},
     "execution_count": 103
    }
   ],
   "metadata": {}
  },
  {
   "cell_type": "code",
   "execution_count": 119,
   "source": [
    "class MyClass:\r\n",
    "    \"\"\"A simple example class\"\"\"\r\n",
    "    i = 12345\r\n",
    "\r\n",
    "    def f(self):\r\n",
    "        return 'hello world'\r\n",
    "x = MyClass()\r\n",
    "x.f.__func__\r\n",
    "x.f.__module__\r\n",
    "x = MyClass().f\r\n",
    "x()\r\n",
    "x\r\n",
    "x.__self__"
   ],
   "outputs": [
    {
     "output_type": "execute_result",
     "data": {
      "text/plain": [
       "<__main__.MyClass at 0x1bbb0168340>"
      ]
     },
     "metadata": {},
     "execution_count": 119
    }
   ],
   "metadata": {}
  },
  {
   "cell_type": "code",
   "execution_count": 123,
   "source": [
    "import sklearn\r\n",
    "sklearn.__dict__['__name__']"
   ],
   "outputs": [
    {
     "output_type": "execute_result",
     "data": {
      "text/plain": [
       "'sklearn'"
      ]
     },
     "metadata": {},
     "execution_count": 123
    }
   ],
   "metadata": {}
  },
  {
   "cell_type": "code",
   "execution_count": 133,
   "source": [
    "slice(223423,'dlkdsajl','afa')"
   ],
   "outputs": [
    {
     "output_type": "execute_result",
     "data": {
      "text/plain": [
       "slice(223423, 'dlkdsajl', 'afa')"
      ]
     },
     "metadata": {},
     "execution_count": 133
    }
   ],
   "metadata": {}
  },
  {
   "cell_type": "code",
   "execution_count": 142,
   "source": [
    "chr(7)"
   ],
   "outputs": [
    {
     "output_type": "execute_result",
     "data": {
      "text/plain": [
       "'\\x07'"
      ]
     },
     "metadata": {},
     "execution_count": 142
    }
   ],
   "metadata": {}
  },
  {
   "cell_type": "code",
   "execution_count": 148,
   "source": [
    "class MyClass():\r\n",
    "    @classmethod\r\n",
    "    def myfunc(cls):\r\n",
    "        print(\"I am a class method\")\r\n",
    " \r\n",
    "# dir(MyClass.myfunc())\r\n",
    "MyClass.myfunc().__class__"
   ],
   "outputs": [
    {
     "output_type": "stream",
     "name": "stdout",
     "text": [
      "I am a class method\n"
     ]
    },
    {
     "output_type": "execute_result",
     "data": {
      "text/plain": [
       "NoneType"
      ]
     },
     "metadata": {},
     "execution_count": 148
    }
   ],
   "metadata": {}
  },
  {
   "cell_type": "code",
   "execution_count": 197,
   "source": [
    "def whats_on_the_telly(penguin=None):\r\n",
    "    if penguin is None:\r\n",
    "        penguin = []\r\n",
    "    penguin.append(\"property of the zoo\")\r\n",
    "    return penguin"
   ],
   "outputs": [],
   "metadata": {}
  },
  {
   "cell_type": "code",
   "execution_count": 228,
   "source": [
    "whats_on_the_telly()\r\n"
   ],
   "outputs": [
    {
     "output_type": "execute_result",
     "data": {
      "text/plain": [
       "['property of the zoo']"
      ]
     },
     "metadata": {},
     "execution_count": 228
    }
   ],
   "metadata": {}
  },
  {
   "cell_type": "code",
   "execution_count": 1,
   "source": [
    "# main module\r\n",
    "import matplotlib.pyplot as plt\r\n",
    "import numpy as np\r\n",
    "import pandas as pd\r\n",
    "pd.set_option('display.max_columns', 100)\r\n",
    "\r\n",
    "# import pandas_profiling as pdp\r\n",
    "import seaborn as sns\r\n",
    "\r\n",
    "import lightgbm as lgb\r\n",
    "\r\n",
    "from sklearn.metrics import log_loss\r\n",
    "from sklearn.metrics import mean_squared_error\r\n",
    "\r\n",
    "import datetime\r\n",
    "import gc\r\n",
    "import logging\r\n",
    "import pickle\r\n",
    "from pickle import load\r\n",
    "import sys, os\r\n",
    "\r\n",
    "# -------------------------------------独自モジュール-------------------------------------\r\n",
    "sys.path.append('../../src/') #モジュールが入っているディレクトリのパスを指定\r\n",
    "# from eda import *\r\n",
    "import eda\r\n",
    "import maprepro as mpre\r\n",
    "import maprepro2 as mpre2\r\n",
    "# import config\r\n",
    "# from utils import setup_logger, ModelFactory\r\n",
    "# -------------------------------------独自モジュール-------------------------------------"
   ],
   "outputs": [],
   "metadata": {}
  },
  {
   "cell_type": "code",
   "execution_count": 2,
   "source": [
    "a = type(print('hoge'))\r\n",
    "exec('1')\r\n",
    "exec('a')\r\n",
    "type(print('hoge'))"
   ],
   "outputs": [
    {
     "output_type": "stream",
     "name": "stdout",
     "text": [
      "hoge\n",
      "hoge\n"
     ]
    },
    {
     "output_type": "execute_result",
     "data": {
      "text/plain": [
       "NoneType"
      ]
     },
     "metadata": {},
     "execution_count": 2
    }
   ],
   "metadata": {}
  },
  {
   "cell_type": "code",
   "execution_count": 3,
   "source": [
    "# spam = __import__('spam', globals(), locals(), [], 0)\r\n",
    "# globals()\r\n",
    "# locals(),"
   ],
   "outputs": [
    {
     "output_type": "execute_result",
     "data": {
      "text/plain": [
       "({'__name__': '__main__',\n",
       "  '__doc__': 'Automatically created module for IPython interactive environment',\n",
       "  '__package__': None,\n",
       "  '__loader__': None,\n",
       "  '__spec__': None,\n",
       "  '__builtin__': <module 'builtins' (built-in)>,\n",
       "  '__builtins__': <module 'builtins' (built-in)>,\n",
       "  '_ih': ['',\n",
       "   \"# main module\\r\\nimport matplotlib.pyplot as plt\\r\\nimport numpy as np\\r\\nimport pandas as pd\\r\\npd.set_option('display.max_columns', 100)\\r\\n\\r\\n# import pandas_profiling as pdp\\r\\nimport seaborn as sns\\r\\n\\r\\nimport lightgbm as lgb\\r\\n\\r\\nfrom sklearn.metrics import log_loss\\r\\nfrom sklearn.metrics import mean_squared_error\\r\\n\\r\\nimport datetime\\r\\nimport gc\\r\\nimport logging\\r\\nimport pickle\\r\\nfrom pickle import load\\r\\nimport sys, os\\r\\n\\r\\n# -------------------------------------独自モジュール-------------------------------------\\r\\nsys.path.append('../../src/') #モジュールが入っているディレクトリのパスを指定\\r\\n# from eda import *\\r\\nimport eda\\r\\nimport maprepro as mpre\\r\\nimport maprepro2 as mpre2\\r\\n# import config\\r\\n# from utils import setup_logger, ModelFactory\\r\\n# -------------------------------------独自モジュール-------------------------------------\",\n",
       "   \"a = type(print('hoge'))\\r\\nexec('1')\\r\\nexec('a')\\r\\ntype(print('hoge'))\",\n",
       "   \"# spam = __import__('spam', globals(), locals(), [], 0)\\r\\n# globals()\\r\\nlocals(),\"],\n",
       "  '_oh': {2: NoneType},\n",
       "  '_dh': ['c:\\\\Users\\\\thyt\\\\Kaggle\\\\N-rossmann\\\\work\\\\eda\\\\m'],\n",
       "  'In': ['',\n",
       "   \"# main module\\r\\nimport matplotlib.pyplot as plt\\r\\nimport numpy as np\\r\\nimport pandas as pd\\r\\npd.set_option('display.max_columns', 100)\\r\\n\\r\\n# import pandas_profiling as pdp\\r\\nimport seaborn as sns\\r\\n\\r\\nimport lightgbm as lgb\\r\\n\\r\\nfrom sklearn.metrics import log_loss\\r\\nfrom sklearn.metrics import mean_squared_error\\r\\n\\r\\nimport datetime\\r\\nimport gc\\r\\nimport logging\\r\\nimport pickle\\r\\nfrom pickle import load\\r\\nimport sys, os\\r\\n\\r\\n# -------------------------------------独自モジュール-------------------------------------\\r\\nsys.path.append('../../src/') #モジュールが入っているディレクトリのパスを指定\\r\\n# from eda import *\\r\\nimport eda\\r\\nimport maprepro as mpre\\r\\nimport maprepro2 as mpre2\\r\\n# import config\\r\\n# from utils import setup_logger, ModelFactory\\r\\n# -------------------------------------独自モジュール-------------------------------------\",\n",
       "   \"a = type(print('hoge'))\\r\\nexec('1')\\r\\nexec('a')\\r\\ntype(print('hoge'))\",\n",
       "   \"# spam = __import__('spam', globals(), locals(), [], 0)\\r\\n# globals()\\r\\nlocals(),\"],\n",
       "  'Out': {2: NoneType},\n",
       "  'get_ipython': <bound method InteractiveShell.get_ipython of <ipykernel.zmqshell.ZMQInteractiveShell object at 0x000001CF4C8455E0>>,\n",
       "  'exit': <IPython.core.autocall.ZMQExitAutocall at 0x1cf4c875dc0>,\n",
       "  'quit': <IPython.core.autocall.ZMQExitAutocall at 0x1cf4c875dc0>,\n",
       "  '_': NoneType,\n",
       "  '__': '',\n",
       "  '___': '',\n",
       "  'sys': <module 'sys' (built-in)>,\n",
       "  'os': <module 'os' from 'C:\\\\Users\\\\thyt\\\\anaconda3\\\\envs\\\\rake4\\\\lib\\\\os.py'>,\n",
       "  '_i': \"a = type(print('hoge'))\\r\\nexec('1')\\r\\nexec('a')\\r\\ntype(print('hoge'))\",\n",
       "  '_ii': \"# main module\\r\\nimport matplotlib.pyplot as plt\\r\\nimport numpy as np\\r\\nimport pandas as pd\\r\\npd.set_option('display.max_columns', 100)\\r\\n\\r\\n# import pandas_profiling as pdp\\r\\nimport seaborn as sns\\r\\n\\r\\nimport lightgbm as lgb\\r\\n\\r\\nfrom sklearn.metrics import log_loss\\r\\nfrom sklearn.metrics import mean_squared_error\\r\\n\\r\\nimport datetime\\r\\nimport gc\\r\\nimport logging\\r\\nimport pickle\\r\\nfrom pickle import load\\r\\nimport sys, os\\r\\n\\r\\n# -------------------------------------独自モジュール-------------------------------------\\r\\nsys.path.append('../../src/') #モジュールが入っているディレクトリのパスを指定\\r\\n# from eda import *\\r\\nimport eda\\r\\nimport maprepro as mpre\\r\\nimport maprepro2 as mpre2\\r\\n# import config\\r\\n# from utils import setup_logger, ModelFactory\\r\\n# -------------------------------------独自モジュール-------------------------------------\",\n",
       "  '_iii': '',\n",
       "  '_i1': \"# main module\\r\\nimport matplotlib.pyplot as plt\\r\\nimport numpy as np\\r\\nimport pandas as pd\\r\\npd.set_option('display.max_columns', 100)\\r\\n\\r\\n# import pandas_profiling as pdp\\r\\nimport seaborn as sns\\r\\n\\r\\nimport lightgbm as lgb\\r\\n\\r\\nfrom sklearn.metrics import log_loss\\r\\nfrom sklearn.metrics import mean_squared_error\\r\\n\\r\\nimport datetime\\r\\nimport gc\\r\\nimport logging\\r\\nimport pickle\\r\\nfrom pickle import load\\r\\nimport sys, os\\r\\n\\r\\n# -------------------------------------独自モジュール-------------------------------------\\r\\nsys.path.append('../../src/') #モジュールが入っているディレクトリのパスを指定\\r\\n# from eda import *\\r\\nimport eda\\r\\nimport maprepro as mpre\\r\\nimport maprepro2 as mpre2\\r\\n# import config\\r\\n# from utils import setup_logger, ModelFactory\\r\\n# -------------------------------------独自モジュール-------------------------------------\",\n",
       "  'plt': <module 'matplotlib.pyplot' from 'C:\\\\Users\\\\thyt\\\\anaconda3\\\\envs\\\\rake4\\\\lib\\\\site-packages\\\\matplotlib\\\\pyplot.py'>,\n",
       "  'np': <module 'numpy' from 'C:\\\\Users\\\\thyt\\\\anaconda3\\\\envs\\\\rake4\\\\lib\\\\site-packages\\\\numpy\\\\__init__.py'>,\n",
       "  'pd': <module 'pandas' from 'C:\\\\Users\\\\thyt\\\\anaconda3\\\\envs\\\\rake4\\\\lib\\\\site-packages\\\\pandas\\\\__init__.py'>,\n",
       "  'sns': <module 'seaborn' from 'C:\\\\Users\\\\thyt\\\\anaconda3\\\\envs\\\\rake4\\\\lib\\\\site-packages\\\\seaborn\\\\__init__.py'>,\n",
       "  'lgb': <module 'lightgbm' from 'C:\\\\Users\\\\thyt\\\\anaconda3\\\\envs\\\\rake4\\\\lib\\\\site-packages\\\\lightgbm\\\\__init__.py'>,\n",
       "  'log_loss': <function sklearn.metrics._classification.log_loss(y_true, y_pred, *, eps=1e-15, normalize=True, sample_weight=None, labels=None)>,\n",
       "  'mean_squared_error': <function sklearn.metrics._regression.mean_squared_error(y_true, y_pred, *, sample_weight=None, multioutput='uniform_average', squared=True)>,\n",
       "  'datetime': <module 'datetime' from 'C:\\\\Users\\\\thyt\\\\anaconda3\\\\envs\\\\rake4\\\\lib\\\\datetime.py'>,\n",
       "  'gc': <module 'gc' (built-in)>,\n",
       "  'logging': <module 'logging' from 'C:\\\\Users\\\\thyt\\\\anaconda3\\\\envs\\\\rake4\\\\lib\\\\logging\\\\__init__.py'>,\n",
       "  'pickle': <module 'pickle' from 'C:\\\\Users\\\\thyt\\\\anaconda3\\\\envs\\\\rake4\\\\lib\\\\pickle.py'>,\n",
       "  'load': <function _pickle.load(file, *, fix_imports=True, encoding='ASCII', errors='strict', buffers=())>,\n",
       "  'eda': <module 'eda' from 'c:\\\\Users\\\\thyt\\\\Kaggle\\\\N-rossmann\\\\work\\\\eda\\\\m\\\\../../src\\\\eda.py'>,\n",
       "  'mpre': <module 'maprepro' from 'c:\\\\Users\\\\thyt\\\\Kaggle\\\\N-rossmann\\\\work\\\\eda\\\\m\\\\../../src\\\\maprepro.py'>,\n",
       "  'mpre2': <module 'maprepro2' from 'c:\\\\Users\\\\thyt\\\\Kaggle\\\\N-rossmann\\\\work\\\\eda\\\\m\\\\../../src\\\\maprepro2.py'>,\n",
       "  '_i2': \"a = type(print('hoge'))\\r\\nexec('1')\\r\\nexec('a')\\r\\ntype(print('hoge'))\",\n",
       "  'a': NoneType,\n",
       "  '_2': NoneType,\n",
       "  '_i3': \"# spam = __import__('spam', globals(), locals(), [], 0)\\r\\n# globals()\\r\\nlocals(),\"},)"
      ]
     },
     "metadata": {},
     "execution_count": 3
    }
   ],
   "metadata": {}
  },
  {
   "cell_type": "code",
   "execution_count": 7,
   "source": [
    "# vars(eda)\r\n",
    "# eda.__doc__ # これだと改行コードが文字コードとして出力されてしまう\r\n",
    "help(eda) # こっちならみやすい\r\n"
   ],
   "outputs": [
    {
     "output_type": "stream",
     "name": "stdout",
     "text": [
      "Help on module eda:\n",
      "\n",
      "NAME\n",
      "    eda - import文より前に記載しないと__doc__として認識されないらしい\n",
      "\n",
      "DESCRIPTION\n",
      "    このdocstiringはGoogleスタイルで記述されています。\n",
      "    \n",
      "    メソッド一覧(先頭にアンスコつけるとimport *したときに読み込まれない)\n",
      "    - scp_heat\n",
      "    - miss_check\n",
      "    - reduce_mem_usage\n",
      "    \n",
      "    Todo:\n",
      "        TODOリストを記載\n",
      "        * 特になし。思いついたやつ、見かけたやつでedaにあたり、使いまわせそうなメソッドを記載するだけ\n",
      "\n",
      "FUNCTIONS\n",
      "    miss_check(df)\n",
      "        # Function to calculate missing values by column\n",
      "    \n",
      "    reduce_mem_usage(df, verbose=True)\n",
      "    \n",
      "    scp_heat(df, cols)\n",
      "\n",
      "FILE\n",
      "    c:\\users\\thyt\\kaggle\\n-rossmann\\work\\src\\eda.py\n",
      "\n",
      "\n"
     ]
    }
   ],
   "metadata": {}
  },
  {
   "cell_type": "code",
   "execution_count": null,
   "source": [],
   "outputs": [],
   "metadata": {}
  },
  {
   "cell_type": "code",
   "execution_count": null,
   "source": [],
   "outputs": [],
   "metadata": {}
  },
  {
   "cell_type": "code",
   "execution_count": null,
   "source": [],
   "outputs": [],
   "metadata": {}
  },
  {
   "cell_type": "code",
   "execution_count": null,
   "source": [],
   "outputs": [],
   "metadata": {}
  },
  {
   "cell_type": "code",
   "execution_count": null,
   "source": [],
   "outputs": [],
   "metadata": {}
  }
 ],
 "metadata": {
  "orig_nbformat": 4,
  "language_info": {
   "name": "python",
   "version": "3.8.10",
   "mimetype": "text/x-python",
   "codemirror_mode": {
    "name": "ipython",
    "version": 3
   },
   "pygments_lexer": "ipython3",
   "nbconvert_exporter": "python",
   "file_extension": ".py"
  },
  "kernelspec": {
   "name": "python3",
   "display_name": "Python 3.8.10 64-bit ('rake4': conda)"
  },
  "interpreter": {
   "hash": "dd5a840675b4b7a0124460e0160a18be5bf8441ea5223e9a03f358a511ddc22e"
  }
 },
 "nbformat": 4,
 "nbformat_minor": 2
}