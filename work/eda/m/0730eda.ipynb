{
 "cells": [
  {
   "cell_type": "code",
   "execution_count": 60,
   "source": [
    "# デバッガ\r\n",
    "# import os\r\n",
    "# os.listdir('../../..')\r\n",
    "\r\n",
    "# %debug\r\n",
    "# import pdb; pdb.set_trace()"
   ],
   "outputs": [],
   "metadata": {}
  },
  {
   "cell_type": "code",
   "execution_count": 61,
   "source": [
    "# main module\r\n",
    "import matplotlib.pyplot as plt\r\n",
    "import seaborn as sns\r\n",
    "import pandas as pd\r\n",
    "import pandas_profiling as pdp\r\n",
    "import numpy as np\r\n",
    "\r\n",
    "import datetime\r\n",
    "import logging\r\n",
    "import sys, os\r\n",
    "sys.path.append('../../src/') #モジュールが入っているディレクトリのパスを指定\r\n",
    "\r\n",
    "import eda\r\n",
    "import config\r\n",
    "import maprepro as mpre\r\n",
    "from utils import setup_logger, ModelFactory\r\n"
   ],
   "outputs": [],
   "metadata": {}
  },
  {
   "cell_type": "code",
   "execution_count": 62,
   "source": [
    "path = '../../../input/pkl'\r\n",
    "sample = pd.read_pickle(f'{path}/sample_submission.pkl')\r\n",
    "store = pd.read_pickle(f'{path}/store.pkl')\r\n",
    "test = pd.read_pickle(f'{path}/test.pkl')\r\n",
    "train = pd.read_pickle(f'{path}/train.pkl')"
   ],
   "outputs": [],
   "metadata": {}
  },
  {
   "cell_type": "code",
   "execution_count": 67,
   "source": [
    "def tmp_Open_holiday(df, istrain=True):\r\n",
    "    '''\r\n",
    "    - Salesが0の時、Openを0に置換\r\n",
    "    - 休日フラグを立てる\r\n",
    "    '''\r\n",
    "    if istrain:\r\n",
    "        df['Open'] = df['Open'].where(df['Sales']!=0, 0)\r\n",
    "        \r\n",
    "    # 休日フラグを立てる # The day of the week with Monday=0, Sunday=6.    5と6を1、それ以外を0\r\n",
    "    tmp = {0: 0, 1: 0, 2: 0, 3: 0, 4: 0, 5: 1, 6: 1}\r\n",
    "    df['non_working_day'] = df['DayOfWeek'].map(tmp)\r\n",
    "    # df.query(\"DayOfWeek==5 or DayOfWeek==6\")['DayOfWeek'].value_counts()\r\n",
    "    return df\r\n",
    "\r\n",
    "train = tmp_Open_holiday(train)\r\n",
    "test = tmp_Open_holiday(test,istrain=False)\r\n"
   ],
   "outputs": [],
   "metadata": {}
  },
  {
   "cell_type": "code",
   "execution_count": 46,
   "source": [],
   "outputs": [],
   "metadata": {}
  },
  {
   "cell_type": "code",
   "execution_count": null,
   "source": [],
   "outputs": [],
   "metadata": {}
  },
  {
   "cell_type": "code",
   "execution_count": null,
   "source": [],
   "outputs": [],
   "metadata": {}
  },
  {
   "cell_type": "code",
   "execution_count": null,
   "source": [],
   "outputs": [],
   "metadata": {}
  },
  {
   "cell_type": "code",
   "execution_count": null,
   "source": [],
   "outputs": [],
   "metadata": {}
  },
  {
   "cell_type": "code",
   "execution_count": null,
   "source": [],
   "outputs": [],
   "metadata": {}
  },
  {
   "cell_type": "code",
   "execution_count": null,
   "source": [],
   "outputs": [],
   "metadata": {}
  },
  {
   "cell_type": "code",
   "execution_count": null,
   "source": [],
   "outputs": [],
   "metadata": {}
  },
  {
   "cell_type": "code",
   "execution_count": null,
   "source": [],
   "outputs": [],
   "metadata": {}
  },
  {
   "cell_type": "code",
   "execution_count": null,
   "source": [],
   "outputs": [],
   "metadata": {}
  },
  {
   "cell_type": "code",
   "execution_count": null,
   "source": [],
   "outputs": [],
   "metadata": {}
  },
  {
   "cell_type": "code",
   "execution_count": null,
   "source": [
    "'''\r\n",
    "自分で休日フラグ作成しないとダメっぽい\r\n",
    "祝日を\r\n",
    "\r\n",
    "'''"
   ],
   "outputs": [],
   "metadata": {}
  },
  {
   "cell_type": "code",
   "execution_count": 25,
   "source": [
    "test.Open.isnull().sum()"
   ],
   "outputs": [
    {
     "output_type": "execute_result",
     "data": {
      "text/plain": [
       "11"
      ]
     },
     "metadata": {},
     "execution_count": 25
    }
   ],
   "metadata": {}
  }
 ],
 "metadata": {
  "orig_nbformat": 4,
  "language_info": {
   "name": "python",
   "version": "3.8.10",
   "mimetype": "text/x-python",
   "codemirror_mode": {
    "name": "ipython",
    "version": 3
   },
   "pygments_lexer": "ipython3",
   "nbconvert_exporter": "python",
   "file_extension": ".py"
  },
  "kernelspec": {
   "name": "python3",
   "display_name": "Python 3.8.10 64-bit ('rake4': conda)"
  },
  "interpreter": {
   "hash": "d9f87b01c5f363e537c38b2d60098718b3d41838537a2c7a8e52ee73e3d0a1c0"
  }
 },
 "nbformat": 4,
 "nbformat_minor": 2
}