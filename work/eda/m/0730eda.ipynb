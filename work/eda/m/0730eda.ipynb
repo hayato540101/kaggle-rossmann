{
 "cells": [
  {
   "cell_type": "code",
   "execution_count": 12,
   "source": [
    "# デバッガ\r\n",
    "# import os\r\n",
    "# os.listdir('../../..')\r\n",
    "\r\n",
    "# %debug\r\n",
    "# import pdb; pdb.set_trace()"
   ],
   "outputs": [],
   "metadata": {}
  },
  {
   "cell_type": "code",
   "execution_count": 13,
   "source": [
    "# main module\r\n",
    "import matplotlib.pyplot as plt\r\n",
    "import seaborn as sns\r\n",
    "import pandas as pd\r\n",
    "import pandas_profiling as pdp\r\n",
    "import numpy as np\r\n",
    "\r\n",
    "import datetime\r\n",
    "import logging\r\n",
    "import sys, os\r\n",
    "sys.path.append('../../src/') #モジュールが入っているディレクトリのパスを指定\r\n",
    "\r\n",
    "import eda\r\n",
    "import config\r\n",
    "import maprepro as mpre\r\n",
    "from utils import setup_logger, ModelFactory\r\n"
   ],
   "outputs": [],
   "metadata": {}
  },
  {
   "cell_type": "code",
   "execution_count": 18,
   "source": [
    "path = '../../../input/pkl'\r\n",
    "sample = pd.read_pickle(f'{path}/sample_submission.pkl')\r\n",
    "store = pd.read_pickle(f'{path}/store.pkl')\r\n",
    "test = pd.read_pickle(f'{path}/test.pkl')\r\n",
    "train = pd.read_pickle(f'{path}/train.pkl')"
   ],
   "outputs": [],
   "metadata": {}
  },
  {
   "cell_type": "code",
   "execution_count": 19,
   "source": [
    "# train['Sales']が0の時、Openは通常0と考えられるので、\r\n",
    "# Sales!=0を満たさないものつまりSales=0の時のOpenを0に置換する\r\n",
    "# 条件式がFalseのものを置換する点がちょっと紛らわしいので注意\r\n",
    "train['Open'] = train['Open'].where(train['Sales']!=0, 0)\r\n",
    "train[train['Open']==0].Sales.value_counts()"
   ],
   "outputs": [
    {
     "output_type": "execute_result",
     "data": {
      "text/plain": [
       "0    172871\n",
       "Name: Sales, dtype: int64"
      ]
     },
     "metadata": {},
     "execution_count": 19
    }
   ],
   "metadata": {}
  },
  {
   "cell_type": "code",
   "execution_count": null,
   "source": [],
   "outputs": [],
   "metadata": {}
  }
 ],
 "metadata": {
  "orig_nbformat": 4,
  "language_info": {
   "name": "python",
   "version": "3.8.10",
   "mimetype": "text/x-python",
   "codemirror_mode": {
    "name": "ipython",
    "version": 3
   },
   "pygments_lexer": "ipython3",
   "nbconvert_exporter": "python",
   "file_extension": ".py"
  },
  "kernelspec": {
   "name": "python3",
   "display_name": "Python 3.8.10 64-bit ('rake4': conda)"
  },
  "interpreter": {
   "hash": "d9f87b01c5f363e537c38b2d60098718b3d41838537a2c7a8e52ee73e3d0a1c0"
  }
 },
 "nbformat": 4,
 "nbformat_minor": 2
}